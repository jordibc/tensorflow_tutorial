{
 "cells": [
  {
   "cell_type": "markdown",
   "metadata": {},
   "source": [
    "# Ideas"
   ]
  },
  {
   "cell_type": "markdown",
   "metadata": {},
   "source": [
    "## NN that learns to subclassify\n",
    "\n",
    "By seeing many examples of some class, it will eventually realize that there are common traits to different subclasses, and decide that it can subclassify.\n",
    "\n",
    "It may develop a hierarchy of classes.\n",
    "\n",
    "## Snob NN\n",
    "\n",
    "Related to the subclasses, maybe we could write a NN that \"develops taste\", that is, eventually decides that certain subclass is what really \"should be called\" the class. \"This is not wine\" because it doesn't consider it is \"wine enough\" to be called wine.\n",
    "\n",
    "##  Describing the new classes\n",
    "\n",
    "A NN that has to explain what is characteristic of the new classes it has found. It will be basically the filters that it uses. And it has to know what are the elements with which it can describe to other NN (humans): circle, square, rectangle, like an egg...\n",
    "\n",
    "It will have to have an idea of the terms it can use to describe to others. And be ready to switch to other building blocks."
   ]
  }
 ],
 "metadata": {
  "kernelspec": {
   "display_name": "Python 3",
   "language": "python",
   "name": "python3"
  },
  "language_info": {
   "codemirror_mode": {
    "name": "ipython",
    "version": 3
   },
   "file_extension": ".py",
   "mimetype": "text/x-python",
   "name": "python",
   "nbconvert_exporter": "python",
   "pygments_lexer": "ipython3",
   "version": "3.5.4"
  }
 },
 "nbformat": 4,
 "nbformat_minor": 2
}

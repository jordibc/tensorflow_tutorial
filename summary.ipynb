{
 "cells": [
  {
   "cell_type": "markdown",
   "metadata": {},
   "source": [
    "# Summary"
   ]
  },
  {
   "cell_type": "markdown",
   "metadata": {},
   "source": [
    "Notes from the course at http://cs231n.github.io/."
   ]
  },
  {
   "cell_type": "markdown",
   "metadata": {},
   "source": [
    "## Basic Definitions"
   ]
  },
  {
   "cell_type": "markdown",
   "metadata": {},
   "source": [
    "**Score function**: $f:\\{x_i\\} \\rightarrow \\mathbb{R}^n$<br>\n",
    "where $x_i$ are the initial data (images, points...) and $\\mathbb{R}^n$ the class scores ($n$ being the number of classes)."
   ]
  },
  {
   "cell_type": "markdown",
   "metadata": {},
   "source": [
    "**Loss function**: $L:\\{w_i\\} \\times \\{(y_i, \\tilde{y}_i)\\} \\rightarrow \\mathbb{R}$<br>\n",
    "where $w_i$ are the parameters (weights), $y_i$ the true labels and $\\tilde{y}_i$ the scores for the labels."
   ]
  },
  {
   "cell_type": "markdown",
   "metadata": {},
   "source": [
    "**Gradient descent method**:<br>\n",
    "```python\n",
    "while True:\n",
    "    weights += - step_size * weights_grad(loss_fun, data, weights)\n",
    "```"
   ]
  },
  {
   "cell_type": "markdown",
   "metadata": {},
   "source": [
    "**Backpropagation**: Computation of the partial derivative of a composite function. In particular, used to estimate the variation of the loss wrt a weight in some layer of a AAN."
   ]
  },
  {
   "cell_type": "markdown",
   "metadata": {},
   "source": [
    "## Setting Up"
   ]
  },
  {
   "cell_type": "markdown",
   "metadata": {},
   "source": [
    "**Preprocessing**\n",
    "\n",
    "* Mean subtraction\n",
    "* Normalization\n",
    "* PCA (& whitening, that is, divide each component by its variance)"
   ]
  },
  {
   "cell_type": "markdown",
   "metadata": {},
   "source": [
    "**Weight Initialization**\n",
    "\n",
    "$w_i \\sim G(0, \\sqrt{2/n})$"
   ]
  },
  {
   "cell_type": "markdown",
   "metadata": {},
   "source": [
    "**Regularization**\n",
    "\n",
    "* $L^2$: $\\frac{1}{2} \\lambda w^2$\n",
    "* $L^1$: $\\lambda |w|$\n",
    "* dropout"
   ]
  },
  {
   "cell_type": "markdown",
   "metadata": {},
   "source": [
    "## Learning"
   ]
  },
  {
   "cell_type": "markdown",
   "metadata": {},
   "source": [
    "**Checks**"
   ]
  },
  {
   "cell_type": "markdown",
   "metadata": {},
   "source": [
    "Do a numerical gradient check.\n",
    "\n",
    "* $h \\sim 10^{-6}$ (compromise bw secant/tangent error & floating point error)\n",
    "* Use doubles\n",
    "* Test on small batch\n",
    "* Burn-in (move a bit in parameter space before doing the checks)"
   ]
  },
  {
   "cell_type": "markdown",
   "metadata": {},
   "source": [
    "Check if initial loss looks reasonable."
   ]
  },
  {
   "cell_type": "markdown",
   "metadata": {},
   "source": [
    "Monitor a few things during the training:\n",
    "\n",
    "* Loss value\n",
    "* Training vs validation accuracy\n",
    "* Relative updates of the values should be $\\sim 10^{-3}$\n",
    "* See 1st layer weights"
   ]
  },
  {
   "cell_type": "markdown",
   "metadata": {},
   "source": [
    "**Learning Process**\n",
    "\n",
    "* Stochastic Gradient Descent\n",
    "* Momentum <br>\n",
    "$v \\leftarrow v (1 - \\epsilon) + \\lambda \\nabla f$<br>\n",
    "$x \\leftarrow x + v$\n",
    "* Adagrad"
   ]
  }
 ],
 "metadata": {
  "kernelspec": {
   "display_name": "Python 3",
   "language": "python",
   "name": "python3"
  },
  "language_info": {
   "codemirror_mode": {
    "name": "ipython",
    "version": 3
   },
   "file_extension": ".py",
   "mimetype": "text/x-python",
   "name": "python",
   "nbconvert_exporter": "python",
   "pygments_lexer": "ipython3",
   "version": "3.5.4"
  }
 },
 "nbformat": 4,
 "nbformat_minor": 2
}

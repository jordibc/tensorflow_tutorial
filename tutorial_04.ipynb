{
 "cells": [
  {
   "cell_type": "markdown",
   "metadata": {
    "collapsed": true
   },
   "source": [
    "# TensorFlow Mechanics 101\n",
    "\n",
    "This follows: https://www.tensorflow.org/get_started/mnist/mechanics"
   ]
  },
  {
   "cell_type": "markdown",
   "metadata": {},
   "source": [
    "When running `python3 fully_connected_feed.py` with `--max-steps 20000`, we get:\n",
    "\n",
    "```\n",
    "Step 0: loss = 2.30 (0.124 sec)\n",
    "Step 100: loss = 2.16 (0.003 sec)\n",
    "Step 200: loss = 1.86 (0.003 sec)\n",
    "[...]\n",
    "Step 900: loss = 0.49 (0.003 sec)\n",
    "Training Data Eval:\n",
    "  Num examples: 55000  Num correct: 47836  Precision @ 1: 0.8697\n",
    "Validation Data Eval:\n",
    "  Num examples: 5000  Num correct: 4369  Precision @ 1: 0.8738\n",
    "Test Data Eval:\n",
    "  Num examples: 10000  Num correct: 8790  Precision @ 1: 0.8790\n",
    "Step 1000: loss = 0.47 (0.012 sec)\n",
    "Step 1100: loss = 0.53 (0.082 sec)\n",
    "[...]\n",
    "Step 19800: loss = 0.09 (0.080 sec)\n",
    "Step 19900: loss = 0.13 (0.003 sec)\n",
    "Training Data Eval:\n",
    "  Num examples: 55000  Num correct: 53337  Precision @ 1: 0.9698\n",
    "Validation Data Eval:\n",
    "  Num examples: 5000  Num correct: 4842  Precision @ 1: 0.9684\n",
    "Test Data Eval:\n",
    "  Num examples: 10000  Num correct: 9652  Precision @ 1: 0.9652\n",
    "```"
   ]
  },
  {
   "cell_type": "markdown",
   "metadata": {},
   "source": [
    "And running `tensorboard --logdir /tmp/tensorflow/mnist/logs/fully_connected_feed` we get a few nice graphs.\n",
    "\n",
    "The most important one:\n",
    "\n",
    "![loss](screenshot_loss.png)"
   ]
  },
  {
   "cell_type": "markdown",
   "metadata": {},
   "source": [
    "By the way, when running I get messages such as:\n",
    "\n",
    "```\n",
    "2017-10-10 00:22:16.908196: W tensorflow/core/platform/cpu_feature_guard.cc:45] The TensorFlow library wasn't compiled to use SSE4.1 instructions, but these are available on your machine and could speed up CPU computations.\n",
    "```\n",
    "\n",
    "which is pretty cool, tensorflow checks if it can go faster and lets you know unobtrusively, running the full thing nevertheless."
   ]
  },
  {
   "cell_type": "markdown",
   "metadata": {},
   "source": [
    "## Changing the optimizer\n",
    "\n",
    "If one edits the file `~/.local/lib/python3.5/site-packages/tensorflow/examples/tutorials/mnist/mnist.py` and changes:\n",
    "\n",
    "`optimizer = tf.train.GradientDescentOptimizer(learning_rate)`\n",
    "\n",
    "to\n",
    "\n",
    "`optimizer = tf.train.AdamOptimizer(learning_rate)`\n",
    "\n",
    "then what we get is:\n",
    "\n",
    "```\n",
    "python3 fully_connected_feed.py \n",
    "[...]\n",
    "Step 0: loss = 2.31 (0.124 sec)\n",
    "Step 100: loss = 0.13 (0.003 sec)\n",
    "Step 200: loss = 0.11 (0.004 sec)\n",
    "[...]\n",
    "Step 800: loss = 0.12 (0.005 sec)\n",
    "Step 900: loss = 0.08 (0.005 sec)\n",
    "Training Data Eval:\n",
    "  Num examples: 55000  Num correct: 53105  Precision @ 1: 0.9655\n",
    "Validation Data Eval:\n",
    "  Num examples: 5000  Num correct: 4805  Precision @ 1: 0.9610\n",
    "Test Data Eval:\n",
    "  Num examples: 10000  Num correct: 9611  Precision @ 1: 0.9611\n",
    "Step 1000: loss = 0.08 (0.015 sec)\n",
    "Step 1100: loss = 0.11 (0.082 sec)\n",
    "[...]\n",
    "Step 19800: loss = 0.02 (0.084 sec)\n",
    "Step 19900: loss = 0.02 (0.004 sec)\n",
    "Training Data Eval:\n",
    "  Num examples: 55000  Num correct: 54726  Precision @ 1: 0.9950\n",
    "Validation Data Eval:\n",
    "  Num examples: 5000  Num correct: 4879  Precision @ 1: 0.9758\n",
    "Test Data Eval:\n",
    "  Num examples: 10000  Num correct: 9764  Precision @ 1: 0.9764\n",
    "```\n",
    "\n",
    "And the graph produced by tensorboard looks like this:\n",
    "\n",
    "![loss_adam](screenshot_loss_adam.png)\n",
    "\n",
    "Looks like it may converge faster if we put the right params, but I didn't change any of the defaults (for that, better to [have a look at the doc](https://www.tensorflow.org/api_docs/python/tf/train/AdamOptimizer))."
   ]
  }
 ],
 "metadata": {
  "kernelspec": {
   "display_name": "Python 3",
   "language": "python",
   "name": "python3"
  },
  "language_info": {
   "codemirror_mode": {
    "name": "ipython",
    "version": 3
   },
   "file_extension": ".py",
   "mimetype": "text/x-python",
   "name": "python",
   "nbconvert_exporter": "python",
   "pygments_lexer": "ipython3",
   "version": "3.5.4"
  }
 },
 "nbformat": 4,
 "nbformat_minor": 2
}
